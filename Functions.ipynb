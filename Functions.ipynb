{
 "cells": [
  {
   "cell_type": "markdown",
   "id": "fc36ef85",
   "metadata": {},
   "source": [
    "## Fitting Functions:\n",
    "<br>\n",
    "\n",
    "### Regime 1: 85 - 35 km\n",
    "<br>\n",
    "\n",
    "### Regime 2: 35 - 0 km\n",
    "<br>\n",
    "\n",
    "### Temperature - \n",
    "<br>\n",
    "Regime 1: $1.06\\times 10^{-9} t'^3 - 4.251\\times 10^{-5} t'^2 + 1.435 t' - 85.42$\n",
    "<br>\n",
    "<br>\n",
    "Regime 2: $7.327\\times 10^{-9} t'^3 - 3.412\\times 10^{-4} t'^2 + 4.954 t' - 943.9$\n",
    "\n",
    "<br>\n",
    "<br>\n",
    "\n",
    "### Pressure -\n",
    "<br>\n",
    "Regime 1: $2.879\\times 10^{-9} p'^3 - 1.847\\times 10^{-4} p'^2 + 7.401 p' - 49$\n",
    "<br>\n",
    "<br>\n",
    "Regime 2: $5.873\\times 10^{-14} p'^5 - 3.62\\times 10^{-9} p'^4 + 8.115\\times 10^{-5} p'^3 - 0.7849 p'^2 + 3105 p' - 2.892 \\times 10^4$\n",
    "\n",
    "<br>\n",
    "<br>\n",
    "\n",
    "### Momentum Magnitude -\n",
    "<br>\n",
    "Regime 1: $-0.206 m'^3 + 2.325 m'^2 - 0.9151 m' + 6.964$\n",
    "<br>\n",
    "<br>\n",
    "Regime 2: $-58.27 m'^3 + 368.8 m'^2 - 161.7 m' + 318.9$\n",
    "\n",
    "<br>\n",
    "<br>\n",
    "\n",
    "### Velocity Magnitude -\n",
    "<br>\n",
    "Regime 1: $6.521\\times 10^{-9} v'^3 - 4.757\\times 10^{-5} v'^2 + 0.9593 v' + 294.9$\n",
    "<br>\n",
    "<br>\n",
    "Regime 2: $9.836\\times 10^{-8} v'^3 - 1.04\\times 10^{-3} v'^2 + 3.331 v' - 750.9$\n",
    "<br>\n",
    "\n",
    "The base static pressure jumps within this crossover regime from 110 Pa to 868 Pa, and the equation for pressure is given by $P = P_b \\mathrm{exp}\\left[\\frac{- g_0 M (H - H_0)}{R_* T_b}\\right]$"
   ]
  },
  {
   "cell_type": "code",
   "execution_count": null,
   "id": "35741056",
   "metadata": {},
   "outputs": [],
   "source": []
  }
 ],
 "metadata": {
  "kernelspec": {
   "display_name": "Python 3",
   "language": "python",
   "name": "python3"
  },
  "language_info": {
   "codemirror_mode": {
    "name": "ipython",
    "version": 3
   },
   "file_extension": ".py",
   "mimetype": "text/x-python",
   "name": "python",
   "nbconvert_exporter": "python",
   "pygments_lexer": "ipython3",
   "version": "3.9.4"
  },
  "widgets": {
   "application/vnd.jupyter.widget-state+json": {
    "state": {},
    "version_major": 2,
    "version_minor": 0
   }
  }
 },
 "nbformat": 4,
 "nbformat_minor": 5
}
