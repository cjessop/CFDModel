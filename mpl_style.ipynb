{
 "cells": [
  {
   "cell_type": "code",
   "execution_count": 1,
   "id": "1e4959ac",
   "metadata": {},
   "outputs": [],
   "source": [
    "# see http://matplotlib.org/users/customizing.html for all options\n",
    "\n",
    "style1 = {\n",
    "    # Line styles\n",
    "    'lines.linewidth': 1.5,\n",
    "    'lines.antialiased': True,\n",
    "\n",
    "    # Font\n",
    "    'font.size': 16.0,\n",
    "\n",
    "    # Axes\n",
    "    'axes.linewidth': 1.5,\n",
    "    'axes.titlesize': 'x-large',\n",
    "    'axes.labelsize': 'large',\n",
    "    'axes.spines.top': True,\n",
    "    'axes.spines.right': True,\n",
    "\n",
    "    # Ticks\n",
    "    'xtick.major.size': 6,\n",
    "    'xtick.minor.size': 4,\n",
    "    'xtick.major.width': 1.5,\n",
    "    'xtick.minor.width': 1.5,\n",
    "    'xtick.major.pad': 6,\n",
    "    'xtick.minor.pad': 6,\n",
    "    'xtick.labelsize': 'medium',\n",
    "    'xtick.direction': 'in',\n",
    "    'xtick.top': True,\n",
    "\n",
    "    'ytick.major.size': 6,\n",
    "    'ytick.minor.size': 4,\n",
    "    'ytick.major.width': 1.5,\n",
    "    'ytick.minor.width': 1.5,\n",
    "    'ytick.major.pad': 6,\n",
    "    'ytick.minor.pad': 6,\n",
    "    'ytick.labelsize': 'medium',\n",
    "    'ytick.direction': 'in',\n",
    "    'ytick.right': True,\n",
    "\n",
    "    # Legend\n",
    "    'legend.fancybox': True,\n",
    "    'legend.fontsize': 'large',\n",
    "    'legend.scatterpoints': 5,\n",
    "    'legend.loc': 'best',\n",
    "\n",
    "    # Figure\n",
    "    'figure.figsize': [8, 6],\n",
    "    'figure.titlesize': 'large',\n",
    "\n",
    "    # Images\n",
    "    'image.cmap': 'magma',\n",
    "    'image.origin': 'lower',\n",
    "\n",
    "    # Saving\n",
    "    'savefig.bbox': 'tight',\n",
    "    'savefig.format': 'png',\n",
    "}"
   ]
  },
  {
   "cell_type": "code",
   "execution_count": null,
   "id": "a7e62741",
   "metadata": {},
   "outputs": [],
   "source": []
  }
 ],
 "metadata": {
  "kernelspec": {
   "display_name": "Python 3",
   "language": "python",
   "name": "python3"
  },
  "language_info": {
   "codemirror_mode": {
    "name": "ipython",
    "version": 3
   },
   "file_extension": ".py",
   "mimetype": "text/x-python",
   "name": "python",
   "nbconvert_exporter": "python",
   "pygments_lexer": "ipython3",
   "version": "3.9.4"
  }
 },
 "nbformat": 4,
 "nbformat_minor": 5
}
